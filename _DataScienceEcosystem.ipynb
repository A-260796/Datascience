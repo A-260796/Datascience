{
 "cells": [
  {
   "cell_type": "markdown",
   "id": "9015ef2b",
   "metadata": {},
   "source": [
    "# Data Science Tools and Ecosystem"
   ]
  },
  {
   "cell_type": "markdown",
   "id": "c543f067",
   "metadata": {},
   "source": [
    "In this notebook , Data Science Tools and Ecosystem are summarized."
   ]
  },
  {
   "cell_type": "markdown",
   "id": "7ff58b68",
   "metadata": {},
   "source": [
    "Some of the popular languages that Data Scientists use are:\n",
    " 1. Python\n",
    " 2. R\n",
    " 3. Java\n",
    " 4. Scala\n",
    "    "
   ]
  },
  {
   "cell_type": "markdown",
   "id": "9f78e202",
   "metadata": {},
   "source": [
    "Some of the commonly used libraries used by Data Scientists include:\n",
    "1. Numpy\n",
    "2. Panda\n",
    "3. Tensorflow"
   ]
  },
  {
   "cell_type": "markdown",
   "id": "1f2e4a4d",
   "metadata": {},
   "source": [
    "|Data Science Tools|\n",
    "|------------------|\n",
    "|1. Anaconda|\n",
    "|------------------|\n",
    "|2.Jupyter|\n",
    "|------------------|\n",
    "|3.Spyder|\n",
    "|------------------|\n"
   ]
  },
  {
   "cell_type": "markdown",
   "id": "a6285fd9",
   "metadata": {},
   "source": [
    "### Below are a few examples of evaluating arithematic expressions in Python."
   ]
  },
  {
   "cell_type": "code",
   "execution_count": 1,
   "id": "248e3ec2",
   "metadata": {},
   "outputs": [
    {
     "data": {
      "text/plain": [
       "17"
      ]
     },
     "execution_count": 1,
     "metadata": {},
     "output_type": "execute_result"
    }
   ],
   "source": [
    "#This a simple arithemetic expression to multiply then add integers \n",
    "(3*4)+5 "
   ]
  },
  {
   "cell_type": "code",
   "execution_count": 2,
   "id": "d074e0b0",
   "metadata": {},
   "outputs": [
    {
     "data": {
      "text/plain": [
       "3.3333333333333335"
      ]
     },
     "execution_count": 2,
     "metadata": {},
     "output_type": "execute_result"
    }
   ],
   "source": [
    "#This will convert 200 minutes to hours by dividing by 60\n",
    "200/60"
   ]
  },
  {
   "cell_type": "markdown",
   "id": "74e92995",
   "metadata": {},
   "source": [
    "# Objectives:\n",
    "- Github\n",
    "- Jupyer lab\n",
    "- Anaconda\n",
    "- Python"
   ]
  },
  {
   "cell_type": "markdown",
   "id": "02ae0c21",
   "metadata": {},
   "source": [
    "## Author\n",
    "Abhishek Singh"
   ]
  },
  {
   "cell_type": "code",
   "execution_count": null,
   "id": "11a55ee8",
   "metadata": {},
   "outputs": [],
   "source": []
  }
 ],
 "metadata": {
  "kernelspec": {
   "display_name": "Python 3 (ipykernel)",
   "language": "python",
   "name": "python3"
  },
  "language_info": {
   "codemirror_mode": {
    "name": "ipython",
    "version": 3
   },
   "file_extension": ".py",
   "mimetype": "text/x-python",
   "name": "python",
   "nbconvert_exporter": "python",
   "pygments_lexer": "ipython3",
   "version": "3.10.9"
  }
 },
 "nbformat": 4,
 "nbformat_minor": 5
}
